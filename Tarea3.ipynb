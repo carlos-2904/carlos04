{
  "nbformat": 4,
  "nbformat_minor": 0,
  "metadata": {
    "colab": {
      "name": "Untitled2.ipynb",
      "provenance": [],
      "authorship_tag": "ABX9TyOudhIqkYKMo6PzcpuHT7+h",
      "include_colab_link": true
    },
    "kernelspec": {
      "name": "python3",
      "display_name": "Python 3"
    }
  },
  "cells": [
    {
      "cell_type": "markdown",
      "metadata": {
        "id": "view-in-github",
        "colab_type": "text"
      },
      "source": [
        "<a href=\"https://colab.research.google.com/github/carlos-2904/carlos04/blob/master/Tarea3.ipynb\" target=\"_parent\"><img src=\"https://colab.research.google.com/assets/colab-badge.svg\" alt=\"Open In Colab\"/></a>"
      ]
    },
    {
      "cell_type": "code",
      "metadata": {
        "id": "NRpONA6QpPCe",
        "outputId": "d2c89006-2f9f-4570-ddee-e8f5ee06e941",
        "colab": {
          "base_uri": "https://localhost:8080/",
          "height": 132
        }
      },
      "source": [
        "Persona = {\n",
        "    \n",
        "    \"Nombre\" : 'Carlos',\n",
        "    \"Edad\" : 20,\n",
        "    \"Estatura\" : 187,\n",
        "\n",
        "\n",
        "def  pregunta(dormir , comer ) :\n",
        "  print(f\"Duerme 8 horas diarias:{ dormir }\")\n",
        "  print(f\"Come 5 comidas al día:{ comer }\")\n",
        "\n",
        "\n",
        "\n",
        "  #print(f\"¿Cuanto duerme: { dormir }\")\n",
        " # pint(f\"¿Cuantas comidas hace al día? : { comer }\")\n",
        "def  saludar ( **opciones ):\n",
        "  print(opciones + Persona) \n",
        "  for op in opciones.items():\n",
        "    print(f\"{op[0]} -> {op[1]}\")\n",
        "    print(f\"¿Cuanto duerme?: { dormir }\")\n",
        "    print(f\"¿Cuantas comidas hace al día? : { comer }\")\n",
        "}\n",
        "print(Persona)"
      ],
      "execution_count": 47,
      "outputs": [
        {
          "output_type": "error",
          "ename": "SyntaxError",
          "evalue": "ignored",
          "traceback": [
            "\u001b[0;36m  File \u001b[0;32m\"<ipython-input-47-126c97cb5c86>\"\u001b[0;36m, line \u001b[0;32m8\u001b[0m\n\u001b[0;31m    def  pregunta(dormir , comer ) :\u001b[0m\n\u001b[0m      ^\u001b[0m\n\u001b[0;31mSyntaxError\u001b[0m\u001b[0;31m:\u001b[0m invalid syntax\n"
          ]
        }
      ]
    },
    {
      "cell_type": "code",
      "metadata": {
        "id": "FyiCB5DM5yPZ"
      },
      "source": [
        ""
      ],
      "execution_count": null,
      "outputs": []
    }
  ]
}